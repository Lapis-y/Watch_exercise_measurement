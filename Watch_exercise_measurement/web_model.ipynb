{
 "cells": [
  {
   "cell_type": "code",
   "execution_count": 1,
   "metadata": {},
   "outputs": [],
   "source": [
    "#数据处理\n",
    "\n",
    "import torch\n",
    "import torch.nn as nn\n",
    "import torch.optim as optim\n",
    "import numpy as np\n",
    "from sklearn.metrics import mean_absolute_error, mean_squared_error, r2_score\n",
    "\n",
    "device = torch.device(\"cuda\" if torch.cuda.is_available() else \"cpu\")\n",
    "\n"
   ]
  },
  {
   "cell_type": "code",
   "execution_count": 2,
   "metadata": {},
   "outputs": [
    {
     "data": {
      "text/plain": [
       "<All keys matched successfully>"
      ]
     },
     "execution_count": 2,
     "metadata": {},
     "output_type": "execute_result"
    }
   ],
   "source": [
    "#加载已经训练好的模型1\n",
    "\n",
    "# 定义一个简单的线性回归模型\n",
    "class LinearRegressionModel(nn.Module):\n",
    "    def __init__(self, input_size):\n",
    "        super(LinearRegressionModel, self).__init__()\n",
    "        self.linear = nn.Linear(input_size, 1)\n",
    "\n",
    "    def forward(self, x):\n",
    "        return self.linear(x)\n",
    "# 超参数\n",
    "input_size = 4  # 特征数量\n",
    "model1 = LinearRegressionModel(input_size)\n",
    "model1.to(device)\n",
    "# 定义损失函数和优化器\n",
    "learning_rate = 0.001\n",
    "criterion = nn.MSELoss()\n",
    "optimizer = optim.Adam(model1.parameters(), lr=learning_rate)\n",
    "\n",
    "model1.load_state_dict(torch.load('.\\\\Creative_model\\\\jupyter_LinearRegressionModel.pth'))"
   ]
  },
  {
   "cell_type": "code",
   "execution_count": 3,
   "metadata": {},
   "outputs": [
    {
     "data": {
      "text/plain": [
       "<All keys matched successfully>"
      ]
     },
     "execution_count": 3,
     "metadata": {},
     "output_type": "execute_result"
    }
   ],
   "source": [
    "#加载训练好的模型2\n",
    "class VeryDeepRegressionModel(nn.Module):\n",
    "    def __init__(self, input_size, hidden_size, num_layers, output_size):\n",
    "        super(VeryDeepRegressionModel, self).__init__()\n",
    "        self.input_layer = nn.Linear(input_size, hidden_size)\n",
    "        self.hidden_layers = nn.ModuleList([\n",
    "            nn.Linear(hidden_size, hidden_size) for _ in range(num_layers - 1)\n",
    "        ])\n",
    "        self.output_layer = nn.Linear(hidden_size, output_size)\n",
    "\n",
    "    def forward(self, x):\n",
    "        x = torch.relu(self.input_layer(x))\n",
    "        for layer in self.hidden_layers:\n",
    "            x = torch.relu(layer(x))\n",
    "        x = self.output_layer(x)\n",
    "        return x\n",
    "# 超参数\n",
    "input_size = 4  # 特征数量\n",
    "hidden_size = 64  # 每个隐藏层的神经元数量\n",
    "num_layers = 20  # 隐藏层的数量\n",
    "output_size = 1\n",
    "\n",
    "# 初始化20层深度模型\n",
    "model2 = VeryDeepRegressionModel(input_size, hidden_size, num_layers, output_size)\n",
    "\n",
    "model2.to(device)\n",
    "model2.load_state_dict(torch.load('.\\\\Creative_model\\\\jupyter_VeryDeepRegressionModel.pth'))"
   ]
  },
  {
   "cell_type": "code",
   "execution_count": 4,
   "metadata": {},
   "outputs": [
    {
     "data": {
      "text/plain": [
       "<All keys matched successfully>"
      ]
     },
     "execution_count": 4,
     "metadata": {},
     "output_type": "execute_result"
    }
   ],
   "source": [
    "#加载训练好的模型3\n",
    "class ResidualBlock(nn.Module):\n",
    "    def __init__(self, in_features, out_features):\n",
    "        super(ResidualBlock, self).__init__()\n",
    "        self.linear1 = nn.Linear(in_features, out_features)\n",
    "        self.relu = nn.ReLU()\n",
    "        self.linear2 = nn.Linear(out_features, out_features)\n",
    "\n",
    "    def forward(self, x):\n",
    "        residual = x\n",
    "        x = self.linear1(x)\n",
    "        x = self.relu(x)\n",
    "        x = self.linear2(x)\n",
    "        x += residual  # 添加残差连接\n",
    "        return x\n",
    "\n",
    "class VeryDeepRegressionModel(nn.Module):\n",
    "    def __init__(self, input_size, hidden_size, num_layers, output_size):\n",
    "        super(VeryDeepRegressionModel, self).__init__()\n",
    "        self.input_layer = nn.Linear(input_size, hidden_size)\n",
    "        self.hidden_layers = nn.ModuleList([\n",
    "            ResidualBlock(hidden_size, hidden_size) for _ in range(num_layers - 1)\n",
    "        ])\n",
    "        self.output_layer = nn.Linear(hidden_size, output_size)\n",
    "\n",
    "    def forward(self, x):\n",
    "        x = torch.relu(self.input_layer(x))\n",
    "        for layer in self.hidden_layers:\n",
    "            x = layer(x)  # 使用残差块\n",
    "            x = torch.relu(x)\n",
    "        x = self.output_layer(x)\n",
    "        return x\n",
    "\n",
    "# 超参数\n",
    "input_size = 4  # 特征数量\n",
    "hidden_size = 64  # 每个隐藏层的神经元数量\n",
    "num_layers = 20  # 隐藏层的数量\n",
    "output_size = 1\n",
    "\n",
    "# 初始化带有残差块的深度模型\n",
    "model3 = VeryDeepRegressionModel(input_size, hidden_size, num_layers, output_size)\n",
    "model3.to(device)\n",
    "model3.load_state_dict(torch.load('.\\\\Creative_model\\\\jupyter_ResidualBlock_VeryDeepRegressionModel.pth'))"
   ]
  },
  {
   "cell_type": "code",
   "execution_count": 5,
   "metadata": {},
   "outputs": [
    {
     "data": {
      "text/plain": [
       "<All keys matched successfully>"
      ]
     },
     "execution_count": 5,
     "metadata": {},
     "output_type": "execute_result"
    }
   ],
   "source": [
    "#加载训练好的模型4\n",
    "import torch\n",
    "import torch.nn as nn\n",
    "import torch.optim as optim\n",
    "\n",
    "class ResidualBlock(nn.Module):\n",
    "    def __init__(self, in_features, out_features):\n",
    "        super(ResidualBlock, self).__init__()\n",
    "        self.linear1 = nn.Linear(in_features, out_features)\n",
    "        self.bn1 = nn.BatchNorm1d(out_features)  # 批量归一化层\n",
    "        self.relu = nn.ReLU()\n",
    "        self.linear2 = nn.Linear(out_features, out_features)\n",
    "        self.bn2 = nn.BatchNorm1d(out_features)  # 批量归一化层\n",
    "\n",
    "    def forward(self, x):\n",
    "        residual = x\n",
    "        x = self.linear1(x)\n",
    "        x = self.bn1(x)  # 添加批量归一化\n",
    "        x = self.relu(x)\n",
    "        x = self.linear2(x)\n",
    "        x = self.bn2(x)  # 添加批量归一化\n",
    "        x += residual  # 添加残差连接\n",
    "        return x\n",
    "\n",
    "class VeryDeepRegressionModel(nn.Module):\n",
    "    def __init__(self, input_size, hidden_size, num_layers, output_size, dropout_p):\n",
    "        super(VeryDeepRegressionModel, self).__init__()\n",
    "        self.input_layer = nn.Linear(input_size, hidden_size)\n",
    "        self.hidden_layers = nn.ModuleList([\n",
    "            ResidualBlock(hidden_size, hidden_size) for _ in range(num_layers - 1)\n",
    "        ])\n",
    "        self.dropout = nn.Dropout(dropout_p)  # Dropout层\n",
    "        self.output_layer = nn.Linear(hidden_size, output_size)\n",
    "\n",
    "    def forward(self, x):\n",
    "        x = torch.relu(self.input_layer(x))\n",
    "        for layer in self.hidden_layers:\n",
    "            x = layer(x)  # 使用残差块\n",
    "            x = torch.relu(x)\n",
    "        x = self.dropout(x)  # 添加Dropout\n",
    "        x = self.output_layer(x)\n",
    "        return x\n",
    "\n",
    "# 超参数\n",
    "input_size = 4  # 特征数量\n",
    "hidden_size = 64  # 每个隐藏层的神经元数量\n",
    "num_layers = 20  # 隐藏层的数量\n",
    "output_size = 1\n",
    "dropout_p = 0.3  # Dropout的概率\n",
    "\n",
    "# 初始化带有残差块的深度模型\n",
    "model4 = VeryDeepRegressionModel(input_size, hidden_size, num_layers, output_size, dropout_p)\n",
    "model4.to(device)\n",
    "model4.load_state_dict(torch.load('.\\\\Creative_model\\\\jupyter_VeryDeepRegressionModel_BatchNorm1d_Dropou.pth'))"
   ]
  }
 ],
 "metadata": {
  "kernelspec": {
   "display_name": "pytorchcode",
   "language": "python",
   "name": "pytorchcode"
  },
  "language_info": {
   "codemirror_mode": {
    "name": "ipython",
    "version": 3
   },
   "file_extension": ".py",
   "mimetype": "text/x-python",
   "name": "python",
   "nbconvert_exporter": "python",
   "pygments_lexer": "ipython3",
   "version": "3.7.2"
  }
 },
 "nbformat": 4,
 "nbformat_minor": 4
}
