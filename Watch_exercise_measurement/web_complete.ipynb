{
 "cells": [
  {
   "cell_type": "code",
   "execution_count": null,
   "metadata": {},
   "outputs": [],
   "source": [
    "%run web_model.ipynb"
   ]
  },
  {
   "cell_type": "code",
   "execution_count": null,
   "metadata": {},
   "outputs": [
    {
     "name": "stdout",
     "output_type": "stream",
     "text": [
      " * Serving Flask app '__main__'\n",
      " * Debug mode: off\n"
     ]
    },
    {
     "name": "stderr",
     "output_type": "stream",
     "text": [
      "WARNING: This is a development server. Do not use it in a production deployment. Use a production WSGI server instead.\n",
      " * Running on http://127.0.0.1:5000\n",
      "Press CTRL+C to quit\n"
     ]
    }
   ],
   "source": [
    "from flask import Flask, jsonify, request\n",
    "\n",
    "app = Flask(__name__)\n",
    "\n",
    "\n",
    "@app.route('/')\n",
    "def index():\n",
    "    return open('index.html', encoding='utf-8').read()\n",
    "\n",
    "\n",
    "@app.route('/predict', methods=['POST'])\n",
    "def predict():\n",
    "    try:\n",
    "        data = request.get_json()\n",
    "        features = torch.tensor(data['features'], dtype=torch.float32)\n",
    "        features = features.to('cuda')\n",
    "        prediction = model1(features).item()\n",
    "        return jsonify({'prediction': prediction})\n",
    "    except Exception as e:\n",
    "        return jsonify({'error': str(e)})\n",
    "\n",
    "\n",
    "@app.route('/predict2', methods=['POST'])\n",
    "def predict2():\n",
    "    try:\n",
    "        data = request.get_json()\n",
    "        features = torch.tensor(data['features'], dtype=torch.float32)\n",
    "        features = features.to('cuda')\n",
    "        prediction = model2(features).item()\n",
    "        return jsonify({'prediction': prediction})\n",
    "    except Exception as e:\n",
    "        return jsonify({'error': str(e)})\n",
    "\n",
    "\n",
    "@app.route('/predict3', methods=['POST'])\n",
    "def predict3():\n",
    "    try:\n",
    "        data = request.get_json()\n",
    "        features = torch.tensor(data['features'], dtype=torch.float32)\n",
    "        features = features.to('cuda')\n",
    "        prediction = model3(features).item()\n",
    "        return jsonify({'prediction': prediction})\n",
    "    except Exception as e:\n",
    "        return jsonify({'error': str(e)})\n",
    "\n",
    "\n",
    "@app.route('/predict4', methods=['POST'])\n",
    "def predict4():\n",
    "    try:\n",
    "        data = request.get_json()\n",
    "        features = torch.tensor(data['features'], dtype=torch.float32)\n",
    "        features = features.view(1, 4)\n",
    "        features = torch.cat([features, features], dim=0)\n",
    "        features = features.to('cuda')\n",
    "        prediction = model4(features)\n",
    "        prediction = prediction[0, 0].item()\n",
    "\n",
    "        return jsonify({'prediction': prediction})\n",
    "    except Exception as e:\n",
    "        return jsonify({'error': str(e)})\n",
    "\n",
    "\n",
    "if __name__ == '__main__':\n",
    "    app.run()\n"
   ]
  }
 ],
 "metadata": {
  "kernelspec": {
   "display_name": "pytorchcode",
   "language": "python",
   "name": "pytorchcode"
  },
  "language_info": {
   "codemirror_mode": {
    "name": "ipython",
    "version": 3
   },
   "file_extension": ".py",
   "mimetype": "text/x-python",
   "name": "python",
   "nbconvert_exporter": "python",
   "pygments_lexer": "ipython3",
   "version": "3.7.2"
  }
 },
 "nbformat": 4,
 "nbformat_minor": 4
}
